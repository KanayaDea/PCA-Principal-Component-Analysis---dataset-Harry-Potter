{
  "nbformat": 4,
  "nbformat_minor": 0,
  "metadata": {
    "colab": {
      "provenance": []
    },
    "kernelspec": {
      "name": "python3",
      "display_name": "Python 3"
    },
    "language_info": {
      "name": "python"
    }
  },
  "cells": [
    {
      "cell_type": "markdown",
      "source": [
        "#Praktikum 3 DATA MINING\n"
      ],
      "metadata": {
        "id": "mPpLzSVbyK_L"
      }
    },
    {
      "cell_type": "markdown",
      "source": [
        "###1. PCA"
      ],
      "metadata": {
        "id": "jEC-JQ1f3xtn"
      }
    },
    {
      "cell_type": "markdown",
      "source": [
        "**Import Packagenya**\n",
        "kita lakukan import package terlebih dahulu"
      ],
      "metadata": {
        "id": "tvtgAF7a32IW"
      }
    },
    {
      "cell_type": "code",
      "execution_count": null,
      "metadata": {
        "id": "iggj25Um2lpj"
      },
      "outputs": [],
      "source": [
        "import matplotlib.pyplot as plt   #ini librrary untuk melakukan plot nantinya\n",
        "%matplotlib inline\n",
        "import numpy as np                #ini untuk perhitungan nantinya\n",
        "import pandas as pd\n",
        "from sklearn import datasets\n",
        "from sklearn.decomposition import PCA\n",
        "from sklearn.preprocessing import StandardScaler"
      ]
    },
    {
      "cell_type": "markdown",
      "source": [
        "**Import dataset**"
      ],
      "metadata": {
        "id": "l9We9w0N37z0"
      }
    },
    {
      "cell_type": "code",
      "source": [
        "import pandas as pd #mengimport dataset kita\n",
        "from sklearn.preprocessing import StandardScaler\n",
        "TT_df = pd.read_csv('/content/HarryPotterTT.csv')\n",
        "TT_df"
      ],
      "metadata": {
        "id": "_QDFJkTl3wMf",
        "colab": {
          "base_uri": "https://localhost:8080/",
          "height": 739
        },
        "outputId": "99c4b272-8551-40fb-c04d-5259c01966e0"
      },
      "execution_count": null,
      "outputs": [
        {
          "output_type": "execute_result",
          "data": {
            "text/plain": [
              "                   Name   Magic   Cunning   Courage   Wisdom   Temper\n",
              "0        'Harry Potter'      62        21        42       26        7\n",
              "1    'Hermione Granger'      60        16        40       73        2\n",
              "2         'Ron Weasley'      45        14        40       22        4\n",
              "3    'Prof. Dumbledore'     105        24        39       82        0\n",
              "4         'Prof. Snape'      85        24        19       71        7\n",
              "5    'Prof. McGonagail'      95        19        29       76        5\n",
              "6         'Prof. Moody'      82        20        35       69        5\n",
              "7       'Rubeus Hagrid'      12        11        30        8        7\n",
              "8        'Fred Weasley'      87        13        30       22        4\n",
              "9      'George Weasley'      87        13        30       22        4\n",
              "10     'Arthur Weasley'      62         5        29       60        2\n",
              "11     'Vincent Crabbe'      10        13         8        4        7\n",
              "12       'Draco Malfoy'      42        22        10       12        9\n",
              "13      'Gregory Goyle'      10        14         7        2        8\n",
              "14        'Padma Patil'      24         9        23       13        1\n",
              "15      'Parvati Patil'      24        11        23       15        2\n",
              "16     'Fleur Delacour'      59        19        36       54        6\n",
              "17          'Cho Chang'      40         8        25       31        3\n",
              "18     'Cedric Diggory'      58        23        40       55        2\n",
              "19        'Viktor Krum'      56        22        38       30        7\n",
              "20  'Neville Longbottom      24         9        28       15        2\n",
              "21      'Lucius Malfoy'      88        24        10       60        9"
            ],
            "text/html": [
              "\n",
              "  <div id=\"df-848b0708-93fd-4297-8b3d-fccc5728f3cc\" class=\"colab-df-container\">\n",
              "    <div>\n",
              "<style scoped>\n",
              "    .dataframe tbody tr th:only-of-type {\n",
              "        vertical-align: middle;\n",
              "    }\n",
              "\n",
              "    .dataframe tbody tr th {\n",
              "        vertical-align: top;\n",
              "    }\n",
              "\n",
              "    .dataframe thead th {\n",
              "        text-align: right;\n",
              "    }\n",
              "</style>\n",
              "<table border=\"1\" class=\"dataframe\">\n",
              "  <thead>\n",
              "    <tr style=\"text-align: right;\">\n",
              "      <th></th>\n",
              "      <th>Name</th>\n",
              "      <th>Magic</th>\n",
              "      <th>Cunning</th>\n",
              "      <th>Courage</th>\n",
              "      <th>Wisdom</th>\n",
              "      <th>Temper</th>\n",
              "    </tr>\n",
              "  </thead>\n",
              "  <tbody>\n",
              "    <tr>\n",
              "      <th>0</th>\n",
              "      <td>'Harry Potter'</td>\n",
              "      <td>62</td>\n",
              "      <td>21</td>\n",
              "      <td>42</td>\n",
              "      <td>26</td>\n",
              "      <td>7</td>\n",
              "    </tr>\n",
              "    <tr>\n",
              "      <th>1</th>\n",
              "      <td>'Hermione Granger'</td>\n",
              "      <td>60</td>\n",
              "      <td>16</td>\n",
              "      <td>40</td>\n",
              "      <td>73</td>\n",
              "      <td>2</td>\n",
              "    </tr>\n",
              "    <tr>\n",
              "      <th>2</th>\n",
              "      <td>'Ron Weasley'</td>\n",
              "      <td>45</td>\n",
              "      <td>14</td>\n",
              "      <td>40</td>\n",
              "      <td>22</td>\n",
              "      <td>4</td>\n",
              "    </tr>\n",
              "    <tr>\n",
              "      <th>3</th>\n",
              "      <td>'Prof. Dumbledore'</td>\n",
              "      <td>105</td>\n",
              "      <td>24</td>\n",
              "      <td>39</td>\n",
              "      <td>82</td>\n",
              "      <td>0</td>\n",
              "    </tr>\n",
              "    <tr>\n",
              "      <th>4</th>\n",
              "      <td>'Prof. Snape'</td>\n",
              "      <td>85</td>\n",
              "      <td>24</td>\n",
              "      <td>19</td>\n",
              "      <td>71</td>\n",
              "      <td>7</td>\n",
              "    </tr>\n",
              "    <tr>\n",
              "      <th>5</th>\n",
              "      <td>'Prof. McGonagail'</td>\n",
              "      <td>95</td>\n",
              "      <td>19</td>\n",
              "      <td>29</td>\n",
              "      <td>76</td>\n",
              "      <td>5</td>\n",
              "    </tr>\n",
              "    <tr>\n",
              "      <th>6</th>\n",
              "      <td>'Prof. Moody'</td>\n",
              "      <td>82</td>\n",
              "      <td>20</td>\n",
              "      <td>35</td>\n",
              "      <td>69</td>\n",
              "      <td>5</td>\n",
              "    </tr>\n",
              "    <tr>\n",
              "      <th>7</th>\n",
              "      <td>'Rubeus Hagrid'</td>\n",
              "      <td>12</td>\n",
              "      <td>11</td>\n",
              "      <td>30</td>\n",
              "      <td>8</td>\n",
              "      <td>7</td>\n",
              "    </tr>\n",
              "    <tr>\n",
              "      <th>8</th>\n",
              "      <td>'Fred Weasley'</td>\n",
              "      <td>87</td>\n",
              "      <td>13</td>\n",
              "      <td>30</td>\n",
              "      <td>22</td>\n",
              "      <td>4</td>\n",
              "    </tr>\n",
              "    <tr>\n",
              "      <th>9</th>\n",
              "      <td>'George Weasley'</td>\n",
              "      <td>87</td>\n",
              "      <td>13</td>\n",
              "      <td>30</td>\n",
              "      <td>22</td>\n",
              "      <td>4</td>\n",
              "    </tr>\n",
              "    <tr>\n",
              "      <th>10</th>\n",
              "      <td>'Arthur Weasley'</td>\n",
              "      <td>62</td>\n",
              "      <td>5</td>\n",
              "      <td>29</td>\n",
              "      <td>60</td>\n",
              "      <td>2</td>\n",
              "    </tr>\n",
              "    <tr>\n",
              "      <th>11</th>\n",
              "      <td>'Vincent Crabbe'</td>\n",
              "      <td>10</td>\n",
              "      <td>13</td>\n",
              "      <td>8</td>\n",
              "      <td>4</td>\n",
              "      <td>7</td>\n",
              "    </tr>\n",
              "    <tr>\n",
              "      <th>12</th>\n",
              "      <td>'Draco Malfoy'</td>\n",
              "      <td>42</td>\n",
              "      <td>22</td>\n",
              "      <td>10</td>\n",
              "      <td>12</td>\n",
              "      <td>9</td>\n",
              "    </tr>\n",
              "    <tr>\n",
              "      <th>13</th>\n",
              "      <td>'Gregory Goyle'</td>\n",
              "      <td>10</td>\n",
              "      <td>14</td>\n",
              "      <td>7</td>\n",
              "      <td>2</td>\n",
              "      <td>8</td>\n",
              "    </tr>\n",
              "    <tr>\n",
              "      <th>14</th>\n",
              "      <td>'Padma Patil'</td>\n",
              "      <td>24</td>\n",
              "      <td>9</td>\n",
              "      <td>23</td>\n",
              "      <td>13</td>\n",
              "      <td>1</td>\n",
              "    </tr>\n",
              "    <tr>\n",
              "      <th>15</th>\n",
              "      <td>'Parvati Patil'</td>\n",
              "      <td>24</td>\n",
              "      <td>11</td>\n",
              "      <td>23</td>\n",
              "      <td>15</td>\n",
              "      <td>2</td>\n",
              "    </tr>\n",
              "    <tr>\n",
              "      <th>16</th>\n",
              "      <td>'Fleur Delacour'</td>\n",
              "      <td>59</td>\n",
              "      <td>19</td>\n",
              "      <td>36</td>\n",
              "      <td>54</td>\n",
              "      <td>6</td>\n",
              "    </tr>\n",
              "    <tr>\n",
              "      <th>17</th>\n",
              "      <td>'Cho Chang'</td>\n",
              "      <td>40</td>\n",
              "      <td>8</td>\n",
              "      <td>25</td>\n",
              "      <td>31</td>\n",
              "      <td>3</td>\n",
              "    </tr>\n",
              "    <tr>\n",
              "      <th>18</th>\n",
              "      <td>'Cedric Diggory'</td>\n",
              "      <td>58</td>\n",
              "      <td>23</td>\n",
              "      <td>40</td>\n",
              "      <td>55</td>\n",
              "      <td>2</td>\n",
              "    </tr>\n",
              "    <tr>\n",
              "      <th>19</th>\n",
              "      <td>'Viktor Krum'</td>\n",
              "      <td>56</td>\n",
              "      <td>22</td>\n",
              "      <td>38</td>\n",
              "      <td>30</td>\n",
              "      <td>7</td>\n",
              "    </tr>\n",
              "    <tr>\n",
              "      <th>20</th>\n",
              "      <td>'Neville Longbottom</td>\n",
              "      <td>24</td>\n",
              "      <td>9</td>\n",
              "      <td>28</td>\n",
              "      <td>15</td>\n",
              "      <td>2</td>\n",
              "    </tr>\n",
              "    <tr>\n",
              "      <th>21</th>\n",
              "      <td>'Lucius Malfoy'</td>\n",
              "      <td>88</td>\n",
              "      <td>24</td>\n",
              "      <td>10</td>\n",
              "      <td>60</td>\n",
              "      <td>9</td>\n",
              "    </tr>\n",
              "  </tbody>\n",
              "</table>\n",
              "</div>\n",
              "    <div class=\"colab-df-buttons\">\n",
              "\n",
              "  <div class=\"colab-df-container\">\n",
              "    <button class=\"colab-df-convert\" onclick=\"convertToInteractive('df-848b0708-93fd-4297-8b3d-fccc5728f3cc')\"\n",
              "            title=\"Convert this dataframe to an interactive table.\"\n",
              "            style=\"display:none;\">\n",
              "\n",
              "  <svg xmlns=\"http://www.w3.org/2000/svg\" height=\"24px\" viewBox=\"0 -960 960 960\">\n",
              "    <path d=\"M120-120v-720h720v720H120Zm60-500h600v-160H180v160Zm220 220h160v-160H400v160Zm0 220h160v-160H400v160ZM180-400h160v-160H180v160Zm440 0h160v-160H620v160ZM180-180h160v-160H180v160Zm440 0h160v-160H620v160Z\"/>\n",
              "  </svg>\n",
              "    </button>\n",
              "\n",
              "  <style>\n",
              "    .colab-df-container {\n",
              "      display:flex;\n",
              "      gap: 12px;\n",
              "    }\n",
              "\n",
              "    .colab-df-convert {\n",
              "      background-color: #E8F0FE;\n",
              "      border: none;\n",
              "      border-radius: 50%;\n",
              "      cursor: pointer;\n",
              "      display: none;\n",
              "      fill: #1967D2;\n",
              "      height: 32px;\n",
              "      padding: 0 0 0 0;\n",
              "      width: 32px;\n",
              "    }\n",
              "\n",
              "    .colab-df-convert:hover {\n",
              "      background-color: #E2EBFA;\n",
              "      box-shadow: 0px 1px 2px rgba(60, 64, 67, 0.3), 0px 1px 3px 1px rgba(60, 64, 67, 0.15);\n",
              "      fill: #174EA6;\n",
              "    }\n",
              "\n",
              "    .colab-df-buttons div {\n",
              "      margin-bottom: 4px;\n",
              "    }\n",
              "\n",
              "    [theme=dark] .colab-df-convert {\n",
              "      background-color: #3B4455;\n",
              "      fill: #D2E3FC;\n",
              "    }\n",
              "\n",
              "    [theme=dark] .colab-df-convert:hover {\n",
              "      background-color: #434B5C;\n",
              "      box-shadow: 0px 1px 3px 1px rgba(0, 0, 0, 0.15);\n",
              "      filter: drop-shadow(0px 1px 2px rgba(0, 0, 0, 0.3));\n",
              "      fill: #FFFFFF;\n",
              "    }\n",
              "  </style>\n",
              "\n",
              "    <script>\n",
              "      const buttonEl =\n",
              "        document.querySelector('#df-848b0708-93fd-4297-8b3d-fccc5728f3cc button.colab-df-convert');\n",
              "      buttonEl.style.display =\n",
              "        google.colab.kernel.accessAllowed ? 'block' : 'none';\n",
              "\n",
              "      async function convertToInteractive(key) {\n",
              "        const element = document.querySelector('#df-848b0708-93fd-4297-8b3d-fccc5728f3cc');\n",
              "        const dataTable =\n",
              "          await google.colab.kernel.invokeFunction('convertToInteractive',\n",
              "                                                    [key], {});\n",
              "        if (!dataTable) return;\n",
              "\n",
              "        const docLinkHtml = 'Like what you see? Visit the ' +\n",
              "          '<a target=\"_blank\" href=https://colab.research.google.com/notebooks/data_table.ipynb>data table notebook</a>'\n",
              "          + ' to learn more about interactive tables.';\n",
              "        element.innerHTML = '';\n",
              "        dataTable['output_type'] = 'display_data';\n",
              "        await google.colab.output.renderOutput(dataTable, element);\n",
              "        const docLink = document.createElement('div');\n",
              "        docLink.innerHTML = docLinkHtml;\n",
              "        element.appendChild(docLink);\n",
              "      }\n",
              "    </script>\n",
              "  </div>\n",
              "\n",
              "\n",
              "<div id=\"df-69093613-912e-4922-8dc8-42704d0eb030\">\n",
              "  <button class=\"colab-df-quickchart\" onclick=\"quickchart('df-69093613-912e-4922-8dc8-42704d0eb030')\"\n",
              "            title=\"Suggest charts.\"\n",
              "            style=\"display:none;\">\n",
              "\n",
              "<svg xmlns=\"http://www.w3.org/2000/svg\" height=\"24px\"viewBox=\"0 0 24 24\"\n",
              "     width=\"24px\">\n",
              "    <g>\n",
              "        <path d=\"M19 3H5c-1.1 0-2 .9-2 2v14c0 1.1.9 2 2 2h14c1.1 0 2-.9 2-2V5c0-1.1-.9-2-2-2zM9 17H7v-7h2v7zm4 0h-2V7h2v10zm4 0h-2v-4h2v4z\"/>\n",
              "    </g>\n",
              "</svg>\n",
              "  </button>\n",
              "\n",
              "<style>\n",
              "  .colab-df-quickchart {\n",
              "      --bg-color: #E8F0FE;\n",
              "      --fill-color: #1967D2;\n",
              "      --hover-bg-color: #E2EBFA;\n",
              "      --hover-fill-color: #174EA6;\n",
              "      --disabled-fill-color: #AAA;\n",
              "      --disabled-bg-color: #DDD;\n",
              "  }\n",
              "\n",
              "  [theme=dark] .colab-df-quickchart {\n",
              "      --bg-color: #3B4455;\n",
              "      --fill-color: #D2E3FC;\n",
              "      --hover-bg-color: #434B5C;\n",
              "      --hover-fill-color: #FFFFFF;\n",
              "      --disabled-bg-color: #3B4455;\n",
              "      --disabled-fill-color: #666;\n",
              "  }\n",
              "\n",
              "  .colab-df-quickchart {\n",
              "    background-color: var(--bg-color);\n",
              "    border: none;\n",
              "    border-radius: 50%;\n",
              "    cursor: pointer;\n",
              "    display: none;\n",
              "    fill: var(--fill-color);\n",
              "    height: 32px;\n",
              "    padding: 0;\n",
              "    width: 32px;\n",
              "  }\n",
              "\n",
              "  .colab-df-quickchart:hover {\n",
              "    background-color: var(--hover-bg-color);\n",
              "    box-shadow: 0 1px 2px rgba(60, 64, 67, 0.3), 0 1px 3px 1px rgba(60, 64, 67, 0.15);\n",
              "    fill: var(--button-hover-fill-color);\n",
              "  }\n",
              "\n",
              "  .colab-df-quickchart-complete:disabled,\n",
              "  .colab-df-quickchart-complete:disabled:hover {\n",
              "    background-color: var(--disabled-bg-color);\n",
              "    fill: var(--disabled-fill-color);\n",
              "    box-shadow: none;\n",
              "  }\n",
              "\n",
              "  .colab-df-spinner {\n",
              "    border: 2px solid var(--fill-color);\n",
              "    border-color: transparent;\n",
              "    border-bottom-color: var(--fill-color);\n",
              "    animation:\n",
              "      spin 1s steps(1) infinite;\n",
              "  }\n",
              "\n",
              "  @keyframes spin {\n",
              "    0% {\n",
              "      border-color: transparent;\n",
              "      border-bottom-color: var(--fill-color);\n",
              "      border-left-color: var(--fill-color);\n",
              "    }\n",
              "    20% {\n",
              "      border-color: transparent;\n",
              "      border-left-color: var(--fill-color);\n",
              "      border-top-color: var(--fill-color);\n",
              "    }\n",
              "    30% {\n",
              "      border-color: transparent;\n",
              "      border-left-color: var(--fill-color);\n",
              "      border-top-color: var(--fill-color);\n",
              "      border-right-color: var(--fill-color);\n",
              "    }\n",
              "    40% {\n",
              "      border-color: transparent;\n",
              "      border-right-color: var(--fill-color);\n",
              "      border-top-color: var(--fill-color);\n",
              "    }\n",
              "    60% {\n",
              "      border-color: transparent;\n",
              "      border-right-color: var(--fill-color);\n",
              "    }\n",
              "    80% {\n",
              "      border-color: transparent;\n",
              "      border-right-color: var(--fill-color);\n",
              "      border-bottom-color: var(--fill-color);\n",
              "    }\n",
              "    90% {\n",
              "      border-color: transparent;\n",
              "      border-bottom-color: var(--fill-color);\n",
              "    }\n",
              "  }\n",
              "</style>\n",
              "\n",
              "  <script>\n",
              "    async function quickchart(key) {\n",
              "      const quickchartButtonEl =\n",
              "        document.querySelector('#' + key + ' button');\n",
              "      quickchartButtonEl.disabled = true;  // To prevent multiple clicks.\n",
              "      quickchartButtonEl.classList.add('colab-df-spinner');\n",
              "      try {\n",
              "        const charts = await google.colab.kernel.invokeFunction(\n",
              "            'suggestCharts', [key], {});\n",
              "      } catch (error) {\n",
              "        console.error('Error during call to suggestCharts:', error);\n",
              "      }\n",
              "      quickchartButtonEl.classList.remove('colab-df-spinner');\n",
              "      quickchartButtonEl.classList.add('colab-df-quickchart-complete');\n",
              "    }\n",
              "    (() => {\n",
              "      let quickchartButtonEl =\n",
              "        document.querySelector('#df-69093613-912e-4922-8dc8-42704d0eb030 button');\n",
              "      quickchartButtonEl.style.display =\n",
              "        google.colab.kernel.accessAllowed ? 'block' : 'none';\n",
              "    })();\n",
              "  </script>\n",
              "</div>\n",
              "    </div>\n",
              "  </div>\n"
            ]
          },
          "metadata": {},
          "execution_count": 3
        }
      ]
    },
    {
      "cell_type": "markdown",
      "source": [
        "**Ekstak data**\n",
        "\n",
        "melakukan ekstrak data ke dalam array numpy x dan skala datanya"
      ],
      "metadata": {
        "id": "F6SH0X-L4NMF"
      }
    },
    {
      "cell_type": "code",
      "source": [
        "y = TT_df.pop('Name').values\n",
        "X = TT_df.values\n",
        "X_scal = StandardScaler().fit_transform(X)\n",
        "X.shape"
      ],
      "metadata": {
        "id": "NkpEGE8s3vnq",
        "colab": {
          "base_uri": "https://localhost:8080/"
        },
        "outputId": "6742d6b0-5e3d-4cd7-e169-1379291fdfd6"
      },
      "execution_count": null,
      "outputs": [
        {
          "output_type": "execute_result",
          "data": {
            "text/plain": [
              "(22, 5)"
            ]
          },
          "metadata": {},
          "execution_count": 4
        }
      ]
    },
    {
      "cell_type": "markdown",
      "source": [
        "**Apply PCA**\n"
      ],
      "metadata": {
        "id": "RAuU8bm14fgH"
      }
    },
    {
      "cell_type": "code",
      "source": [
        "pcaHP = PCA(n_components=4)\n",
        "X_r = pcaHP.fit(X_scal).transform(X_scal)\n",
        "pcaHP.explained_variance_ratio_"
      ],
      "metadata": {
        "id": "QGfrtTot4iKj",
        "colab": {
          "base_uri": "https://localhost:8080/"
        },
        "outputId": "f4352e6d-726e-45a9-d936-45dabc8c7a0c"
      },
      "execution_count": null,
      "outputs": [
        {
          "output_type": "execute_result",
          "data": {
            "text/plain": [
              "array([0.48877025, 0.31551511, 0.10842469, 0.0501518 ])"
            ]
          },
          "metadata": {},
          "execution_count": 5
        }
      ]
    },
    {
      "cell_type": "markdown",
      "source": [
        "Ada lima fitur yang diproyeksikan ke 4 PC sehingga matriks proyeksinya adalah 4 x 5 dengan code berikut:"
      ],
      "metadata": {
        "id": "W0547vQN40YI"
      }
    },
    {
      "cell_type": "code",
      "source": [
        "pcaHP.components_"
      ],
      "metadata": {
        "id": "F10L_7Q543hF",
        "colab": {
          "base_uri": "https://localhost:8080/"
        },
        "outputId": "eeb935dc-fa9e-4830-fea2-5574d87b736b"
      },
      "execution_count": null,
      "outputs": [
        {
          "output_type": "execute_result",
          "data": {
            "text/plain": [
              "array([[ 0.57407296,  0.40754714,  0.3846298 ,  0.57788956, -0.14983036],\n",
              "       [ 0.10834723,  0.52231617, -0.44046049,  0.0043925 ,  0.72209553],\n",
              "       [-0.27762934,  0.33155304,  0.76359223, -0.39624817,  0.27001634],\n",
              "       [ 0.63573329, -0.55900795,  0.19114024, -0.25378831,  0.42709507]])"
            ]
          },
          "metadata": {},
          "execution_count": 6
        }
      ]
    },
    {
      "cell_type": "markdown",
      "source": [
        "**Plot ke 4 varian PC**\n",
        "\n",
        "Kita buat pemroyeksi dataframe plot ke dalam 4 pc tadi"
      ],
      "metadata": {
        "id": "h4KPoZOq455m"
      }
    },
    {
      "cell_type": "code",
      "source": [
        "df = pd.DataFrame(pcaHP.explained_variance_ratio_,\n",
        "                  index = ['PC1', 'PC2', 'PC3', 'PC4'], columns = ['var'])\n",
        "pl = df.plot.bar(color = 'red', figsize = (5,4))\n",
        "pl.set_ylabel(\"Variance Explained\")\n",
        "pl.set_ylim([0,0.8])"
      ],
      "metadata": {
        "id": "Uht1E7cy49Cu",
        "colab": {
          "base_uri": "https://localhost:8080/",
          "height": 405
        },
        "outputId": "f4b4af4d-c7be-4403-c8d5-d58528d39ffc"
      },
      "execution_count": null,
      "outputs": [
        {
          "output_type": "execute_result",
          "data": {
            "text/plain": [
              "(0.0, 0.8)"
            ]
          },
          "metadata": {},
          "execution_count": 7
        },
        {
          "output_type": "display_data",
          "data": {
            "text/plain": [
              "<Figure size 500x400 with 1 Axes>"
            ],
            "image/png": "[encoded data removed]"
          },
          "metadata": {}
        }
      ]
    },
    {
      "cell_type": "markdown",
      "source": [
        "dapat dilihat dalam grafik berikut, renang variansi explained dengan rataan tertinggi didapat pada PC 1 dan terendah ada pada PC4."
      ],
      "metadata": {
        "id": "G1vZr1Uc0gnR"
      }
    },
    {
      "cell_type": "markdown",
      "source": [
        "**Plot persebaran data dengan PC1 dan PC2**"
      ],
      "metadata": {
        "id": "xNy-dhEn5eyh"
      }
    },
    {
      "cell_type": "code",
      "source": [
        "plt.figure(figsize = (8,6))         #ini untuk ukuran plotnya\n",
        "lw = 2\n",
        "labels = list(range(len(y)))\n",
        "labels[0]='Harry'\n",
        "labels[1]='Hermione'\n",
        "labels[3]='Prof D'\n",
        "labels[5]='Prof McG'\n",
        "labels[6]='Prof Moody'\n",
        "labels[18]='Cedric D'\n",
        "labels[19]='Viktor K'\n",
        "labels[21]='Lucius Malfoy'\n",
        "labels[4]='Snape'\n",
        "labels[12]='Draco Malfoy'\n",
        "\n",
        "plt.scatter(X_r[:, 0], X_r[:, 1])\n",
        "\n",
        "for label, xi, yi in zip(labels, X_r[:, 0], X_r[:, 1]):\n",
        "  plt.annotate(\n",
        "      label,\n",
        "      xy=(xi,yi), xytext = (-3,3),\n",
        "      textcoords = 'offset points', ha = 'right', va='bottom')\n",
        "\n",
        "plt.xlabel('PC1 (49%)')\n",
        "plt.ylabel('PC2 (32%)')\n",
        "plt.title('PCA of HP dataset')\n",
        "\n",
        "plt.show()"
      ],
      "metadata": {
        "id": "ClnTFo-v5jCS",
        "colab": {
          "base_uri": "https://localhost:8080/",
          "height": 533
        },
        "outputId": "d4ef122f-fe14-4cca-ec5f-9c9beda25425"
      },
      "execution_count": null,
      "outputs": [
        {
          "output_type": "display_data",
          "data": {
            "text/plain": [
              "<Figure size 800x600 with 1 Axes>"
            ],
            "image/png": "[encoded data removed]"
          },
          "metadata": {}
        }
      ]
    },
    {
      "cell_type": "markdown",
      "source": [
        "Plot ini menunjukkan data yang diproyeksikan ke 2 PC pertama. PC ini\n",
        "menyumbang 81% varian data(dari kedua PC tersebut). Dapat dikatakan bahwa PC pertama\n",
        "mencerminkan competence dan PC kedua mewakili malevolence."
      ],
      "metadata": {
        "id": "nzqxrkNp7aHd"
      }
    }
  ]
}